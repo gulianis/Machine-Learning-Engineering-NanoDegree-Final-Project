{
 "cells": [
  {
   "cell_type": "markdown",
   "metadata": {
    "collapsed": true
   },
   "source": [
    "# Machine Learning Engineering NanoDegree Project\n"
   ]
  },
  {
   "cell_type": "markdown",
   "metadata": {
    "collapsed": true
   },
   "source": [
    "## Reinforcement Learning in investing"
   ]
  },
  {
   "cell_type": "markdown",
   "metadata": {},
   "source": [
    "Question: Can we use Reinforcement Learning to time the market (S&P 500)?"
   ]
  },
  {
   "cell_type": "markdown",
   "metadata": {},
   "source": [
    "Many investors such as Warren Buffett say that the best way to accumulate weath is to keep your money in the S&P 500 Index Fund. The S&P 500 is a weighted average of all the stocks of the top 500 companies weighted by the value of the company. Historically S&P 500 has gone 7% above inflation which beats many other funds and performs way better than keeping your money in the bank. My question is whether we can make more than 7% over inflation by timing the market. I want to see if reinforcement learning can be used to predict when the stocks will go up or down and use that information to take money out or put money back in the market."
   ]
  },
  {
   "cell_type": "markdown",
   "metadata": {},
   "source": [
    "## Data Preprocessing:"
   ]
  },
  {
   "cell_type": "code",
   "execution_count": 291,
   "metadata": {},
   "outputs": [
    {
     "name": "stdout",
     "output_type": "stream",
     "text": [
      "1638\n"
     ]
    }
   ],
   "source": [
    "import csv\n",
    "import random\n",
    "data_file = open('Shiller_Main_Data.csv')\n",
    "read_file = csv.reader(data_file)\n",
    "data_dictionary = {}                # Where all the S&P Data is stored\n",
    "count = 0\n",
    "header = None\n",
    "for item in read_file:\n",
    "    if count == 0:\n",
    "        header = item               # First line of the data has header names such as ('Real Price')\n",
    "    else:\n",
    "        Date = item[0]              # The month and year of S&P Price and other data\n",
    "        After_Decimal = Date[Date.index('.') + 1:]\n",
    "        if After_Decimal == '1':    # Changing Data entries '1900.1' to '1900.10' \n",
    "            Date += '0'             # '1900.01' mean January, 1900 while '1900.10' mean October, 1900\n",
    "        data_dictionary[count] = {}\n",
    "        data_dictionary[count][header[0]] = Date\n",
    "        data_dictionary[count][header[1]] = float(item[1])    #S&P Price\n",
    "        data_dictionary[count][header[2]] = float(item[2])    #Long Interest Rate\n",
    "        data_dictionary[count][header[3]] = float(item[3])    #Real Price\n",
    "        data_dictionary[count][header[4]] = float(item[4])    #Real Dividend\n",
    "        data_dictionary[count][header[5]] = float(item[5])    #CAPE\n",
    "        data_dictionary[count][header[6]] = float(item[6])    #Date Fraction\n",
    "    count += 1\n",
    "max_count = len(data_dictionary)\n",
    "print (max_count)"
   ]
  },
  {
   "cell_type": "markdown",
   "metadata": {},
   "source": [
    "This is the preprocessing step in order to take the data from .csv file and organize it into an easy to use way. The variable max_count represents the number of months in the data. It includes the information of the Date, S&P Price, Long Interest Rate, Real Price, Real Dividend, CAPE, and Date Fraction of every month from January of 1881 to June of 2017.\n",
    "* S&P Price: Weighted average of all stocks from top 500 companies\n",
    "* Long Interest Rate: Interest Rate on bonds\n",
    "* Real Price: The S&P Price in terms of the dollar today\n",
    "* Real Dividend: The S&P Dividend in terms of the dollar today\n",
    "* CAPE: Cyclically Adjusted Price Per Earnings Ratio\n",
    "* Date Fraction: Used to graph the Date"
   ]
  },
  {
   "cell_type": "markdown",
   "metadata": {},
   "source": [
    "The Real Price and Real Dividend will be used to figure out the amount of money made each month, while CAPE and Long Interest Rate will be used for the predictions. The Real Price will also be used for rewards in the Q-Learning algorithm. The Data set will be split approximately 70% for training and 30% for testing. The data from January 1881 to December 1975 will be used for learning and the data from January 1976 to June 2017 will be used for testing. Can Reinforcement Learning use information from 1881-1975 to make good financial decisions for the last 40 years? "
   ]
  },
  {
   "cell_type": "markdown",
   "metadata": {},
   "source": [
    "## Base Cases:"
   ]
  },
  {
   "cell_type": "markdown",
   "metadata": {},
   "source": [
    "Let's see how much money is made during the testing interval by holding it in the market and this will be used as the base case. If Reinforcement Learning performs better than the Base Case, then we have succeeded. We will show how putting $1000 a month (today's dollars) in S&P can accumlate. This is done to simulate real life where people continue to invest money that they earn."
   ]
  },
  {
   "cell_type": "code",
   "execution_count": 292,
   "metadata": {
    "collapsed": true
   },
   "outputs": [],
   "source": [
    "def BaseCase(data_dictionary,start,end):\n",
    "    money = 0         \n",
    "    shares = 0\n",
    "    for n in range(start,end):\n",
    "        Real_Price = data_dictionary[n]['Real Price']\n",
    "        Real_Dividend = data_dictionary[n]['Real Dividend']\n",
    "        if (n == start): #First Month Money \n",
    "            money = 1000 #No Investment has occured yet\n",
    "        else:            \n",
    "            money = shares*(Real_Price + Real_Dividend/12) + 1000 #Shares converted into money\n",
    "        shares = money/Real_Price #Money converted into shares\n",
    "    return money"
   ]
  },
  {
   "cell_type": "markdown",
   "metadata": {},
   "source": [
    "The Real_Dividend is for the whole year, so we divide it by 12. We assume that you reinvest all the money made from the stock back into the stock market."
   ]
  },
  {
   "cell_type": "code",
   "execution_count": 293,
   "metadata": {},
   "outputs": [
    {
     "name": "stdout",
     "output_type": "stream",
     "text": [
      "The Amount of Money Made from 1881 to 1975 by holding in the Market:\n",
      "$55323777.7857\n",
      "The Amount of Money Made from 1976 to 2017 by holding in the Market:\n",
      "$3351912.47717\n"
     ]
    }
   ],
   "source": [
    "training_start = 1 # January, 1881\n",
    "training_end = (1976 - 1881)*12 - 1  #December, 1975\n",
    "training_case = BaseCase(data_dictionary,training_start,training_end+1)\n",
    "testing_case = BaseCase(data_dictionary,training_end + 1, max_count + 1)\n",
    "print (\"The Amount of Money Made from 1881 to 1975 by holding in the Market:\")\n",
    "print (\"${}\".format(training_case))\n",
    "print (\"The Amount of Money Made from 1976 to 2017 by holding in the Market:\")\n",
    "print (\"${}\".format(testing_case))"
   ]
  },
  {
   "cell_type": "markdown",
   "metadata": {},
   "source": [
    "The testing_case will be compared to the result of the Q-Learning Algorithm. If the result does better it means that the market can be timed. The training_case is important because it represents how much money can be made holding in the market in the training time period. We look at the models that do best in the training period compared to this and use that on the testing case."
   ]
  },
  {
   "cell_type": "markdown",
   "metadata": {
    "collapsed": true
   },
   "source": [
    "## Reinforcement Learning: Q Learning"
   ]
  },
  {
   "cell_type": "markdown",
   "metadata": {},
   "source": [
    "The greedy epsilon Q learning algorithm will be used to make predictions. We set discount factor to 0 because we are not trying to encourage the program to get a certain goal as we don't know what the maximum amount of money can be made in a real world scenario. The formula becomes:"
   ]
  },
  {
   "cell_type": "markdown",
   "metadata": {},
   "source": [
    "$Q_{(s,t)}$ = (1 - $\\alpha$)$Q_{(s,t)}$ + $\\alpha$$r_{t}$\n",
    "* $Q_{(s,t)}$ represents the score for a state at the current time.\n",
    "* $\\alpha$ is the learning rate (range 0-1)\n",
    "* $r$ is the reward"
   ]
  },
  {
   "cell_type": "markdown",
   "metadata": {
    "collapsed": true
   },
   "source": [
    "Price difference will be compared month to month and rewards will depend on that:\n",
    "* If money is kept in the market and the price goes up that is a positive reward\n",
    "* If money is kept in the market and the price goes down that is a negative reward\n",
    "* If stocks are sold and the price goes up that is a negative reward\n",
    "* If stocks are sold and the price goes down that is a positive reward"
   ]
  },
  {
   "cell_type": "markdown",
   "metadata": {},
   "source": [
    "A state is based on the Cape and long interest rate. The action is whether we hold the money in the market or we sell. Holding in the market includes buying shares for the $1000 that is earned each month. We initialize each state an action pair in a dictionary with score of 0. Based on the rewards for each occurence, the dictionary entry is updated based on the Q-Learning formula above. The result of the training will be this dictionary. When the testing occurs, this will be used to determine at a give time whether stocks should be kept or sold. Whichever action has a higher score for a given long interest rate and Cape pair will be the action that is taken. Now in order to create the dictionary, continous values of interest rate and Cape need to be converted to discrete values so that they can be kept in a dictionary."
   ]
  },
  {
   "cell_type": "code",
   "execution_count": 294,
   "metadata": {
    "collapsed": true
   },
   "outputs": [],
   "source": [
    "def interest_range(data_dictionary,division):\n",
    "    min_interest = float('inf')\n",
    "    max_interest = 8.0               #8.0 is set based on data\n",
    "    for items in data_dictionary:\n",
    "        if data_dictionary[items]['Long Interest Rate'] < min_interest:\n",
    "            min_interest = data_dictionary[items]['Long Interest Rate']\n",
    "    interest_array = []\n",
    "    space = float((max_interest - min_interest)/division)                        #even intervals\n",
    "    interest_array.append((float('-inf'),min_interest + space))                  #set lowerbound\n",
    "    for n in range(1,division-1):\n",
    "        interest_array.append((min_interest+space*n,min_interest+space*(n+1)))\n",
    "    interest_array.append((min_interest + space*(division - 1),float('inf')))    #set upperbounds\n",
    "    return interest_array\n",
    "def cape_range(data_dictionary,division):  #Same as interest_range(), but with different max value\n",
    "    min_cape = float('inf')\n",
    "    max_cape = 32          #32 based on data\n",
    "    for items in data_dictionary:\n",
    "        if data_dictionary[items]['CAPE'] < min_cape:\n",
    "            min_cape = data_dictionary[items]['CAPE']\n",
    "    cape_array = []\n",
    "    space = float((max_cape-min_cape)/division)\n",
    "    cape_array.append((float('-inf'),min_cape + space))\n",
    "    for n in range(1,division-1):\n",
    "        cape_array.append((min_cape + space*n,min_cape + space*(n+1)))\n",
    "    cape_array.append((min_cape + space*(division - 1),float('inf')))\n",
    "    return cape_array"
   ]
  },
  {
   "cell_type": "code",
   "execution_count": 295,
   "metadata": {},
   "outputs": [
    {
     "name": "stdout",
     "output_type": "stream",
     "text": [
      "[(-inf, 4.75), (4.75, inf)]\n",
      "[(-inf, 2.8), (2.8, 4.1), (4.1, 5.4), (5.4, 6.7), (6.7, inf)]\n",
      "[(-inf, 18.39), (18.39, inf)]\n",
      "[(-inf, 10.224), (10.224, 15.668), (15.668, 21.112000000000002), (21.112000000000002, 26.556), (26.556, inf)]\n"
     ]
    }
   ],
   "source": [
    "print (interest_range(data_dictionary,2))      #Long Interest ranges with 2 intervals\n",
    "print (interest_range(data_dictionary,5))      #Long Interest ranges with 5 intervals\n",
    "print (cape_range(data_dictionary,2))          #CAPE Ranges with 2 intervals\n",
    "print (cape_range(data_dictionary,5))          #CAPE Ranges with 5 intervals"
   ]
  },
  {
   "cell_type": "markdown",
   "metadata": {},
   "source": [
    "If you look at the data in the testing set, the long interest rates go really high in the 1980's. In the training data it never reaches that high, so an upper limit has to be set. Anything close to 8.0 or above was treated as the same range. In the testing set during the dot com boom the Cape went really high and in the last couple years it has been really high. It never went that high in the training set so 32 is set the upper bound. Now here we initialize the dictionary:"
   ]
  },
  {
   "cell_type": "code",
   "execution_count": 296,
   "metadata": {
    "collapsed": true
   },
   "outputs": [],
   "source": [
    "def create_learner_dictionary(data_dictionary,division_interest,division_cape):\n",
    "    interest_array = interest_range(data_dictionary,division_interest)\n",
    "    cape_array = cape_range(data_dictionary,division_cape)\n",
    "    combination = [(x,y) for x in interest_array for y in cape_array]    #Every state action pair\n",
    "    learner_dictionary = {}\n",
    "    for items in combination:\n",
    "        learner_dictionary[items] = {}\n",
    "        learner_dictionary[items]['hold'] = 0                            #Initialize dictionary\n",
    "        learner_dictionary[items]['sell'] = 0\n",
    "    return learner_dictionary"
   ]
  },
  {
   "cell_type": "code",
   "execution_count": 297,
   "metadata": {},
   "outputs": [
    {
     "name": "stdout",
     "output_type": "stream",
     "text": [
      "{((-inf, 4.75), (18.39, inf)): {'sell': 0, 'hold': 0}, ((4.75, inf), (-inf, 18.39)): {'sell': 0, 'hold': 0}, ((-inf, 4.75), (-inf, 18.39)): {'sell': 0, 'hold': 0}, ((4.75, inf), (18.39, inf)): {'sell': 0, 'hold': 0}}\n"
     ]
    }
   ],
   "source": [
    "print (create_learner_dictionary(data_dictionary,2,2))   #Prints example initalized dictionary with 4 states"
   ]
  },
  {
   "cell_type": "markdown",
   "metadata": {},
   "source": [
    "A function to access dictionary scores for givien interest and Cape. Since the values are continous, the values have to be mapped to the ranges:"
   ]
  },
  {
   "cell_type": "code",
   "execution_count": 298,
   "metadata": {
    "collapsed": true
   },
   "outputs": [],
   "source": [
    "def dictionary_entry(learner_dictionary,interest,cape):\n",
    "    for items in learner_dictionary:\n",
    "        if interest >= items[0][0] and interest < items[0][1]:         #finds long interest rate range\n",
    "            if cape >= items[1][0] and cape < items[1][1]:             #finds cape range\n",
    "                return items"
   ]
  },
  {
   "cell_type": "markdown",
   "metadata": {},
   "source": [
    "In the learning stage, epsilon determines the probability that we choose sell or hold randomly. Otherwise we choose the max based on the dictionary entries. In the beginning we don't know what will work, so we base the decision on randomness and overtime we choose decisions based on what we learned. Epsilon determines the probability that we choose randomness. Epsilon will decay over time. Here we have the sell_or_hold function which uses the find_max function. We also have assign_rewards function which determines action scores for each state."
   ]
  },
  {
   "cell_type": "code",
   "execution_count": 299,
   "metadata": {
    "collapsed": true
   },
   "outputs": [],
   "source": [
    "def find_max(learner_dictionary,state):                             #Chooses 'sell' or 'hold' from dictionary\n",
    "    s = learner_dictionary[state]['sell']\n",
    "    h = learner_dictionary[state]['hold']\n",
    "    if s == h:\n",
    "        action = random.choice(['sell','hold'])\n",
    "    elif s > h:\n",
    "        action = 'sell'\n",
    "    else:\n",
    "        action = 'hold'\n",
    "    return action\n",
    "def sell_or_hold(epsilon,state,learner_dictionary):\n",
    "    chance = random.uniform(0,1.0)\n",
    "    if chance <= epsilon:                                            #epsilon determines randomness\n",
    "        action = random.choice(['sell','hold'])\n",
    "    else:\n",
    "        action = find_max(learner_dictionary,state)\n",
    "    return action\n",
    "def assign_rewards(alpha,history,data_dictionary,learner_dictionary,current):\n",
    "    Real_Price = data_dictionary[current]['Real Price']\n",
    "    Previous_Real_Price = data_dictionary[current-1]['Real Price']\n",
    "    Price_Difference = Real_Price - Previous_Real_Price                   #Basing rewards on the Price Difference\n",
    "    Real_Dividend = data_dictionary[current]['Real Dividend']\n",
    "    Previous_Action = history[-1][2]                                      #Rewarding based on results\n",
    "    Previous_State = history[-1][1]                                       #and previous action/states\n",
    "    if (Price_Difference >= 0 and Previous_Action == 'hold'):\n",
    "        reward = Price_Difference                  \n",
    "    elif (Price_Difference >= 0 and Previous_Action == 'sell'):\n",
    "        reward = -1*(Price_Difference)\n",
    "    elif (Price_Difference < 0 and Previous_Action == 'hold'):\n",
    "        reward = -1*(Price_Difference)\n",
    "    else:\n",
    "        reward = Price_Difference                           #Price_Difference < 0 and Previous_Action == 'sell'\n",
    "    learner_dictionary[Previous_State][Previous_Action] = (1-alpha)*learner_dictionary[Previous_State][Previous_Action] + (alpha)*reward\n",
    "    return learner_dictionary"
   ]
  },
  {
   "cell_type": "markdown",
   "metadata": {},
   "source": [
    "Based on experimenting with different rewards, using price difference from current month to last month worked the best. Adding dividend or static rewards made the program perform worse. Rewards need to be given based on the gained or lost money. Gaining money is just as important as not losing money so that is why the rewards are equal. "
   ]
  },
  {
   "cell_type": "markdown",
   "metadata": {},
   "source": [
    "## Learning"
   ]
  },
  {
   "cell_type": "code",
   "execution_count": 300,
   "metadata": {
    "collapsed": true
   },
   "outputs": [],
   "source": [
    "import math\n",
    "money = 0                 #Initialize money and shares\n",
    "shares = 0\n",
    "def Learning(alpha,data_dictionary,division_interest,division_cape,start,end):\n",
    "    history = []          \n",
    "    learner_dictionary = create_learner_dictionary(data_dictionary,division_interest,division_cape)\n",
    "    for n in range(start,end):\n",
    "        t = n - 1                      #Time Step\n",
    "        epsilon = 1 - .001*t             #Determines how epsilon decays\n",
    "        if (epsilon < 0 or epsilon > 1):\n",
    "            epsilon = 0\n",
    "        Real_Price = data_dictionary[n]['Real Price']\n",
    "        Real_Dividend = data_dictionary[n]['Real Dividend']\n",
    "        Interest_Rate = data_dictionary[n]['Long Interest Rate']\n",
    "        CAPE = data_dictionary[n]['CAPE']\n",
    "        if (n == start):\n",
    "            money = 1000              #$1000 made first month \n",
    "        else:\n",
    "            learner_dictionary = assign_rewards(alpha,history,data_dictionary,learner_dictionary,n)\n",
    "            if (shares > 0):\n",
    "                money = shares*(Real_Price + Real_Dividend/12) + 1000   #Shares converted to money\n",
    "            else:\n",
    "                money += 1000\n",
    "        state = dictionary_entry(learner_dictionary,Interest_Rate,CAPE)\n",
    "        action = sell_or_hold(epsilon,state,learner_dictionary)\n",
    "        history.append([Real_Price,state,action])              #Records information at each time step\n",
    "        if (action == 'hold'):\n",
    "            shares = money/Real_Price                       #Money converted to shares\n",
    "        else:\n",
    "            shares = 0\n",
    "    return money,learner_dictionary"
   ]
  },
  {
   "cell_type": "markdown",
   "metadata": {},
   "source": [
    "## Testing"
   ]
  },
  {
   "cell_type": "code",
   "execution_count": 301,
   "metadata": {
    "collapsed": true
   },
   "outputs": [],
   "source": [
    "def Testing(learner_dictionary,data_dictionary,start,end):\n",
    "    money = 0                            #Intialize money and shares\n",
    "    shares = 0\n",
    "    history = []\n",
    "    for n in range(start,end):\n",
    "        Real_Price = data_dictionary[n]['Real Price']\n",
    "        Real_Dividend = data_dictionary[n]['Real Dividend']\n",
    "        Interest_Rate = data_dictionary[n]['Long Interest Rate']\n",
    "        CAPE = data_dictionary[n]['CAPE']\n",
    "        if (n == start):\n",
    "            money = 1000                 #$1000 made first month\n",
    "        else:\n",
    "            if (shares > 0):\n",
    "                money = shares*(Real_Price + Real_Dividend/12) + 1000     #Shares converted to money\n",
    "            else:\n",
    "                money += 1000\n",
    "        state = dictionary_entry(learner_dictionary,Interest_Rate,CAPE)\n",
    "        action = find_max(learner_dictionary,state)\n",
    "        history.append(action)              #This represents total actions taken\n",
    "        if (action == 'hold'):\n",
    "            shares = money/Real_Price          #Money converted to shares\n",
    "        else:\n",
    "            shares = 0\n",
    "    return money,history"
   ]
  },
  {
   "cell_type": "markdown",
   "metadata": {},
   "source": [
    "Here is an example result:"
   ]
  },
  {
   "cell_type": "code",
   "execution_count": 302,
   "metadata": {},
   "outputs": [
    {
     "name": "stdout",
     "output_type": "stream",
     "text": [
      "$3921540.31194\n"
     ]
    }
   ],
   "source": [
    "alpha = .85\n",
    "division_interest = 4\n",
    "division_cape = 4\n",
    "start = training_start\n",
    "end = training_end\n",
    "old_money, learner_dictionary = Learning(alpha,data_dictionary,division_interest,division_cape,start,end)\n",
    "money, history = Testing(learner_dictionary,data_dictionary,end+1,max_count+1)\n",
    "print (\"${}\".format(money))"
   ]
  },
  {
   "cell_type": "markdown",
   "metadata": {},
   "source": [
    "Now let's find the best alpha value, interest range divisions, and cape range divisions that lead to the best results."
   ]
  },
  {
   "cell_type": "code",
   "execution_count": 303,
   "metadata": {},
   "outputs": [
    {
     "name": "stdout",
     "output_type": "stream",
     "text": [
      "$147496528.385\n",
      "alpha: 0.46\n",
      "Long Interest Rate Intervals: 9\n",
      "CAPE Intervals: 2\n"
     ]
    }
   ],
   "source": [
    "max_money = 0\n",
    "values = None\n",
    "for n in range(0,101):                 #Range of alphas\n",
    "    for s in range(2,11):           #Number of long interest rate divisions\n",
    "        for t in range(2,11):       #Number of cape divisions\n",
    "            money, learner_dictionary = Learning(.01*n,data_dictionary,s,t,start,end)\n",
    "            if money > max_money:\n",
    "                max_money = money\n",
    "                values = (n,s,t)\n",
    "print (\"${}\".format(max_money))\n",
    "print (\"alpha: {}\".format(.01*values[0]))\n",
    "print (\"Long Interest Rate Intervals: {}\".format(values[1]))\n",
    "print (\"CAPE Intervals: {}\".format(values[2]))"
   ]
  },
  {
   "cell_type": "markdown",
   "metadata": {},
   "source": [
    "Let's use these values on the test set and see the results:"
   ]
  },
  {
   "cell_type": "code",
   "execution_count": 304,
   "metadata": {},
   "outputs": [
    {
     "name": "stdout",
     "output_type": "stream",
     "text": [
      "$2333764.42864\n",
      "$2368155.94771\n",
      "$2307656.07719\n",
      "$2593611.8265\n",
      "$2583602.04642\n",
      "$2298300.67749\n",
      "$2429477.65495\n",
      "$2239984.90776\n",
      "$2205415.08121\n",
      "$2850026.67737\n"
     ]
    }
   ],
   "source": [
    "max_money = 0\n",
    "for _ in range(10):\n",
    "    old_money, learner_dictionary = Learning(values[0]*.01,data_dictionary,values[1],values[2],start,end)\n",
    "    money, history = Testing(learner_dictionary,data_dictionary,end+1,max_count+1)\n",
    "    print (\"${}\".format(money))"
   ]
  },
  {
   "cell_type": "markdown",
   "metadata": {},
   "source": [
    "There is a wide range of answers so let's look at the values that give the highest average out of 10 runs:"
   ]
  },
  {
   "cell_type": "code",
   "execution_count": 305,
   "metadata": {
    "scrolled": true
   },
   "outputs": [
    {
     "name": "stdout",
     "output_type": "stream",
     "text": [
      "$55300595.7521\n",
      "alpha: 0.28\n",
      "Long Interest Rate Intervals: 10\n",
      "CAPE Intervals: 10\n"
     ]
    }
   ],
   "source": [
    "max_money = 0\n",
    "values = None\n",
    "for n in range(0,101):\n",
    "    for s in range(2,11):\n",
    "        for t in range(2,11):\n",
    "            average = 0\n",
    "            for _ in range(10):\n",
    "                money, learner_dictionary = Learning(.01*n,data_dictionary,s,t,start,end)\n",
    "                average += money\n",
    "            average /= 10\n",
    "            if average > max_money:\n",
    "                max_money = average\n",
    "                values = (n,s,t)\n",
    "print (\"${}\".format(max_money))\n",
    "print (\"alpha: {}\".format(.01*values[0]))\n",
    "print (\"Long Interest Rate Intervals: {}\".format(values[1]))\n",
    "print (\"CAPE Intervals: {}\".format(values[2]))"
   ]
  },
  {
   "cell_type": "markdown",
   "metadata": {},
   "source": [
    "Now let's find the best dictionary from these values:"
   ]
  },
  {
   "cell_type": "code",
   "execution_count": 306,
   "metadata": {},
   "outputs": [
    {
     "name": "stdout",
     "output_type": "stream",
     "text": [
      "$43893335.4021\n"
     ]
    }
   ],
   "source": [
    "max_money = 0\n",
    "record_dict = {}\n",
    "for _ in range(10):\n",
    "    money,learner_dictionary = Learning(.01*values[0],data_dictionary,values[1],values[2],start,end)\n",
    "    if money > max_money:\n",
    "        max_money = money\n",
    "        record_dict = learner_dictionary\n",
    "print (\"${}\".format(max_money))"
   ]
  },
  {
   "cell_type": "markdown",
   "metadata": {},
   "source": [
    "Now let's use this best dictionary on Testing and see the results:"
   ]
  },
  {
   "cell_type": "code",
   "execution_count": 307,
   "metadata": {},
   "outputs": [
    {
     "name": "stdout",
     "output_type": "stream",
     "text": [
      "$2588032.21255\n"
     ]
    }
   ],
   "source": [
    "max_money = 0\n",
    "max_hist = None\n",
    "for _ in range(10):\n",
    "    money, history = Testing(record_dict,data_dictionary,end+1,max_count+1)\n",
    "    if money > max_money:\n",
    "        max_money = money\n",
    "        max_hist = history\n",
    "print (\"${}\".format(max_money))"
   ]
  },
  {
   "cell_type": "markdown",
   "metadata": {},
   "source": [
    "There is a wide range of results so let's use the best result. We use the history which is a dictionary of 'hold' or 'sell' for each month and use it to create a .csv file that can show graphically where stocks were held and where they were sold."
   ]
  },
  {
   "cell_type": "code",
   "execution_count": 308,
   "metadata": {
    "collapsed": true
   },
   "outputs": [],
   "source": [
    "head_row = ['Real Price','Date Fraction','Sell or Hold']        #Header for file\n",
    "data_file_2 = open('record_list.csv','wb')                      #Create .csv file where data can be recorded\n",
    "write_file = csv.writer(data_file_2)\n",
    "write_file.writerow(head_row)\n",
    "for n in range(end+1,max_count+1):\n",
    "    row = []\n",
    "    row.append(data_dictionary[n][header[3]])                   #Real Price\n",
    "    row.append(data_dictionary[n][header[6]])                   #Date Dictionary\n",
    "    if history[n-end-1] == 'hold':\n",
    "        row.append(data_dictionary[n][header[3]])               #Record Price where held\n",
    "    else:\n",
    "        row.append(0)                                           #Record 0 where sold\n",
    "    write_file.writerow(row)\n",
    "data_file_2.close()"
   ]
  }
 ],
 "metadata": {
  "kernelspec": {
   "display_name": "Python [default]",
   "language": "python",
   "name": "python2"
  },
  "language_info": {
   "codemirror_mode": {
    "name": "ipython",
    "version": 2
   },
   "file_extension": ".py",
   "mimetype": "text/x-python",
   "name": "python",
   "nbconvert_exporter": "python",
   "pygments_lexer": "ipython2",
   "version": "2.7.13"
  }
 },
 "nbformat": 4,
 "nbformat_minor": 2
}
